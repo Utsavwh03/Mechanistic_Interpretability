{
 "cells": [
  {
   "cell_type": "code",
   "execution_count": null,
   "metadata": {},
   "outputs": [],
   "source": [
    "!pip install transformer_lens\n",
    "try:\n",
    "    import google.colab # type: ignore\n",
    "    IN_COLAB = True\n",
    "except:\n",
    "    IN_COLAB = False\n",
    "\n",
    "import os, sys\n",
    "\n",
    "if IN_COLAB:\n",
    "    # Install packages\n",
    "    %pip install einops\n",
    "    %pip install jaxtyping\n",
    "    %pip install transformer_lens\n",
    "    %pip install git+https://github.com/callummcdougall/CircuitsVis.git#subdirectory=python"
   ]
  },
  {
   "cell_type": "code",
   "execution_count": null,
   "metadata": {},
   "outputs": [],
   "source": [
    "!pip install --upgrade torch torchvision torchaudio --index-url https://download.pytorch.org/whl/cu118"
   ]
  },
  {
   "cell_type": "code",
   "execution_count": 1,
   "metadata": {},
   "outputs": [],
   "source": [
    "import os \n",
    "os.environ[\"CUDA_VISIBLE_DEVICES\"] = \"1\""
   ]
  },
  {
   "cell_type": "code",
   "execution_count": 2,
   "metadata": {},
   "outputs": [],
   "source": [
    "import torch\n",
    "from transformer_lens import HookedTransformer\n",
    "\n",
    "if torch.cuda.is_available():\n",
    "    device = \"cuda\" # Use NVIDIA GPU (if available)\n",
    "elif torch.backends.mps.is_available():\n",
    "    device = \"mps\" # Use Apple Silicon GPU (if available)\n",
    "else:\n",
    "    device = \"cpu\" # Default to CPU if no GPU is available"
   ]
  },
  {
   "cell_type": "code",
   "execution_count": null,
   "metadata": {},
   "outputs": [
    {
     "name": "stdout",
     "output_type": "stream",
     "text": [
      "Loaded pretrained model gpt2-small into HookedTransformer\n"
     ]
    }
   ],
   "source": [
    "from transformers import GPT2Tokenizer\n",
    "from torch.nn import CrossEntropyLoss\n",
    "import torch.nn as nn\n",
    "import torch.optim as optim\n",
    "from tqdm import tqdm\n",
    "from datasets import load_dataset\n",
    "\n",
    "device = torch.device(\"cuda\" if torch.cuda.is_available() else \"cpu\")\n",
    "data_path = \"/home/sohampoddar/HDD2/utsav/Dataset/IMDB Dataset.csv\"\n",
    "# Load IMDB dataset (3000 train, 1000 test)\n",
    "dataset = load_dataset('csv', data_files= data_path)\n",
    "train_subset = dataset[\"train\"].shuffle(seed=42).select(range(7000))\n",
    "test_subset = dataset[\"train\"].shuffle(seed=42).select(range(2000))\n",
    "dataset = {\"train\": train_subset, \"test\": test_subset}\n",
    "\n",
    "# Load GPT-2 tokenizer and set pad token\n",
    "tokenizer = GPT2Tokenizer.from_pretrained(\"gpt2\")\n",
    "tokenizer.pad_token = tokenizer.eos_token\n",
    "\n",
    "# Load HookedTransformer GPT-2 model\n",
    "base_model = HookedTransformer.from_pretrained(\"gpt2-small\", device=device)\n",
    "# Dont Freeze GPT-2 layers (optional, speeds up training) \n",
    "for param in base_model.parameters():\n",
    "    param.requires_grad = True\n",
    "\n",
    "# Save initial model state\n",
    "# torch.save(model.state_dict(), \"gpt2-small-imdb-sentiment.pt\")\n",
    "\n",
    "# Define label mapping\n",
    "label_map = {\"negative\": 0, \"positive\": 1}\n"
   ]
  },
  {
   "cell_type": "code",
   "execution_count": 4,
   "metadata": {},
   "outputs": [],
   "source": [
    "class SentimentClassifier(nn.Module):\n",
    "    def __init__(self, transformer, hidden_dim=768, num_classes=2):\n",
    "        super(SentimentClassifier, self).__init__()\n",
    "        self.transformer = transformer\n",
    "        self.classifier = nn.Linear(50257, num_classes)  # Maps hidden state → sentiment classes\n",
    "\n",
    "    def forward(self, input_ids, attention_mask):\n",
    "        outputs = self.transformer(input_ids)  # (batch, seq_len, hidden_dim)\n",
    "        pooled_output = outputs.mean(dim=1)  # Mean pool across sequence length\n",
    "        logits = self.classifier(pooled_output)  # Shape: (batch_size, 2)\n",
    "        return logits\n",
    "\n",
    "from torch.utils.data import DataLoader, Dataset\n",
    "\n",
    "class IMDBDataset(Dataset):\n",
    "    def __init__(self, dataset, tokenizer, max_length=512):\n",
    "        self.tokenizer = tokenizer\n",
    "        self.texts = dataset[\"review\"]\n",
    "        self.labels = [label_map[label] for label in dataset[\"sentiment\"]]\n",
    "        self.max_length = max_length\n",
    "\n",
    "    def __len__(self):\n",
    "        return len(self.texts)\n",
    "\n",
    "    def __getitem__(self, idx):\n",
    "        encodings = self.tokenizer(\n",
    "            self.texts[idx],\n",
    "            padding=\"max_length\",\n",
    "            truncation=True,\n",
    "            max_length=self.max_length,\n",
    "            return_tensors=\"pt\"\n",
    "        )\n",
    "        input_ids = encodings[\"input_ids\"].squeeze()\n",
    "        attention_mask = encodings[\"attention_mask\"].squeeze()\n",
    "        label = torch.tensor(self.labels[idx], dtype=torch.long)\n",
    "        return input_ids, attention_mask, label"
   ]
  },
  {
   "cell_type": "code",
   "execution_count": 5,
   "metadata": {},
   "outputs": [],
   "source": [
    "from torch.nn import CrossEntropyLoss\n",
    "import torch.optim as optim\n",
    "from tqdm import tqdm\n",
    "from datasets import load_dataset\n",
    "\n",
    "train_dataset = IMDBDataset(dataset[\"train\"], tokenizer)\n",
    "test_dataset = IMDBDataset(dataset[\"test\"], tokenizer)\n",
    "\n",
    "train_loader = DataLoader(train_dataset, batch_size=4, shuffle=True)\n",
    "test_loader = DataLoader(test_dataset, batch_size=4, shuffle=False)\n",
    "\n",
    "# Define optimizer & loss function\n",
    "optimizer = optim.AdamW(base_model.parameters(), lr=5e-5)\n",
    "criterion = CrossEntropyLoss()"
   ]
  },
  {
   "cell_type": "code",
   "execution_count": null,
   "metadata": {},
   "outputs": [],
   "source": [
    "base_model = SentimentClassifier(base_model).to(device)\n",
    "base_model"
   ]
  },
  {
   "cell_type": "code",
   "execution_count": 7,
   "metadata": {},
   "outputs": [
    {
     "name": "stderr",
     "output_type": "stream",
     "text": [
      "Epoch 1: 100%|██████████| 1750/1750 [06:52<00:00,  4.24it/s, loss=0.113]  \n",
      "Epoch 2: 100%|██████████| 1750/1750 [06:53<00:00,  4.23it/s, loss=0.332]  \n",
      "Epoch 3: 100%|██████████| 1750/1750 [06:53<00:00,  4.23it/s, loss=0.0257]  \n"
     ]
    }
   ],
   "source": [
    "epochs = 3\n",
    "base_model.train()\n",
    "for epoch in range(epochs):\n",
    "    loop = tqdm(train_loader, desc=f\"Epoch {epoch+1}\")\n",
    "    for input_ids, attention_mask, labels in loop:\n",
    "        input_ids, attention_mask, labels = input_ids.to(device), attention_mask.to(device), labels.to(device)\n",
    "\n",
    "        # Forward pass\n",
    "        logits = base_model(input_ids,attention_mask)\n",
    "        loss = criterion(logits, labels)\n",
    "\n",
    "        # Backpropagation\n",
    "        optimizer.zero_grad()\n",
    "        loss.backward()\n",
    "        optimizer.step()\n",
    "\n",
    "        loop.set_postfix(loss=loss.item())\n",
    "\n",
    "# Save fine-tuned model\n",
    "torch.save(base_model.state_dict(), \"gpt2-imdb-finetuned.pt\")"
   ]
  }
 ],
 "metadata": {
  "kernelspec": {
   "display_name": "dl",
   "language": "python",
   "name": "python3"
  },
  "language_info": {
   "codemirror_mode": {
    "name": "ipython",
    "version": 3
   },
   "file_extension": ".py",
   "mimetype": "text/x-python",
   "name": "python",
   "nbconvert_exporter": "python",
   "pygments_lexer": "ipython3",
   "version": "3.9.17"
  }
 },
 "nbformat": 4,
 "nbformat_minor": 2
}
