{
 "cells": [
  {
   "cell_type": "code",
   "execution_count": 1,
   "metadata": {},
   "outputs": [],
   "source": [
    "from transformers import GPT2Tokenizer\n",
    "from torch.nn import CrossEntropyLoss\n",
    "import torch.nn as nn\n",
    "import torch.optim as optim\n",
    "from tqdm import tqdm\n",
    "from datasets import load_dataset\n",
    "from torch.utils.data import DataLoader, Dataset"
   ]
  },
  {
   "cell_type": "code",
   "execution_count": 2,
   "metadata": {},
   "outputs": [
    {
     "data": {
      "text/plain": [
       "<torch.autograd.grad_mode.set_grad_enabled at 0x7f548e5dfca0>"
      ]
     },
     "execution_count": 2,
     "metadata": {},
     "output_type": "execute_result"
    }
   ],
   "source": [
    "# Import stuff\n",
    "import torch\n",
    "import numpy as np\n",
    "import pandas as pd\n",
    "import matplotlib.pyplot as plt\n",
    "\n",
    "from typing import List, Union, Optional, Tuple, Literal\n",
    "from functools import partial\n",
    "\n",
    "import transformer_lens.utils as utils\n",
    "from transformer_lens.hook_points import (\n",
    "    HookPoint,\n",
    ")  # Hooking utilities\n",
    "from transformer_lens import HookedTransformer, ActivationCache\n",
    "\n",
    "# pio.renderers.default = \"colab\"\n",
    "device = \"cuda\" if torch.cuda.is_available() else \"cpu\"\n",
    "if not torch.cuda.is_available():\n",
    "    print(\"WARNING: Running on CPU. Did you remember to set your Colab accelerator to GPU?\")\n",
    "torch.set_grad_enabled(False)"
   ]
  },
  {
   "cell_type": "code",
   "execution_count": 3,
   "metadata": {},
   "outputs": [
    {
     "name": "stdout",
     "output_type": "stream",
     "text": [
      "Loaded pretrained model gpt2-small into HookedTransformer\n"
     ]
    },
    {
     "data": {
      "text/plain": [
       "<All keys matched successfully>"
      ]
     },
     "execution_count": 3,
     "metadata": {},
     "output_type": "execute_result"
    }
   ],
   "source": [
    "from torch.utils.data import DataLoader, Dataset\n",
    "label_map = {\"negative\": 0, \"positive\": 1}\n",
    "class IMDBDataset(Dataset):\n",
    "    def __init__(self, dataset, tokenizer, max_length=512):\n",
    "        self.tokenizer = tokenizer\n",
    "        self.texts = dataset[\"review\"]\n",
    "        self.labels = [label_map[label] for label in dataset[\"sentiment\"]]\n",
    "        self.max_length = max_length\n",
    "\n",
    "    def __len__(self):\n",
    "        return len(self.texts)\n",
    "\n",
    "    def __getitem__(self, idx):\n",
    "        encodings = self.tokenizer(\n",
    "            self.texts[idx],\n",
    "            padding=\"max_length\",\n",
    "            truncation=True,\n",
    "            max_length=self.max_length,\n",
    "            return_tensors=\"pt\"\n",
    "        )\n",
    "        input_ids = encodings[\"input_ids\"].squeeze()\n",
    "        attention_mask = encodings[\"attention_mask\"].squeeze()\n",
    "        label = torch.tensor(self.labels[idx], dtype=torch.long)\n",
    "        return input_ids, attention_mask, label, idx\n",
    "    \n",
    "class SentimentClassifier(nn.Module):\n",
    "    def __init__(self, transformer, hidden_dim=768, num_classes=2):\n",
    "        super(SentimentClassifier, self).__init__()\n",
    "        self.transformer = transformer\n",
    "        self.classifier = nn.Linear(50257, num_classes)  # Maps hidden state → sentiment classes\n",
    "\n",
    "    def forward(self, input_ids, attention_mask):\n",
    "        outputs = self.transformer(input_ids)  # (batch, seq_len, hidden_dim)\n",
    "        pooled_output = outputs.mean(dim=1)  # Mean pool across sequence length\n",
    "        logits = self.classifier(pooled_output)  # Shape: (batch_size, 2)\n",
    "        return logits\n",
    "\n",
    "import torch\n",
    "from transformer_lens import HookedTransformer\n",
    "# load the base model and tokenizer\n",
    "device = torch.device(\"cuda\" if torch.cuda.is_available() else \"cpu\")\n",
    "tokenizer = GPT2Tokenizer.from_pretrained(\"gpt2\")\n",
    "tokenizer.pad_token = tokenizer.eos_token\n",
    "\n",
    "# Load HookedTransformer GPT-2 model\n",
    "base_model = HookedTransformer.from_pretrained(\"gpt2-small\", device=device)\n",
    "\n",
    "# Create the sentiment classifier model\n",
    "base_classifier = SentimentClassifier(base_model).to(device)\n",
    "\n",
    "data_path = \"/home/sohampoddar/HDD2/utsav/Dataset/IMDB Dataset.csv\"\n",
    "# Load IMDB dataset (3000 train, 1000 test)\n",
    "dataset = load_dataset('csv', data_files= data_path)\n",
    "train_subset = dataset[\"train\"].shuffle(seed=42).select(range(7000))\n",
    "test_subset = dataset[\"train\"].shuffle(seed=42).select(range(2000))\n",
    "dataset = {\"train\": train_subset, \"test\": test_subset}\n",
    "\n",
    "test_dataset = IMDBDataset(dataset[\"test\"], tokenizer)\n",
    "test_loader = DataLoader(test_dataset, batch_size=4, shuffle=True)\n",
    "\n",
    "finetuned_model = SentimentClassifier(base_model).to(device)\n",
    "finetuned_model.load_state_dict(torch.load(\"/home/sohampoddar/HDD2/utsav/MI/gpt2-imdb-finetuned.pt\"))"
   ]
  },
  {
   "cell_type": "markdown",
   "metadata": {},
   "source": [
    "Edge Attribution Patching "
   ]
  },
  {
   "cell_type": "code",
   "execution_count": 5,
   "metadata": {},
   "outputs": [
    {
     "name": "stdout",
     "output_type": "stream",
     "text": [
      "[('movie', 'The', 'det'), ('was', 'movie', 'nsubj'), ('was', 'was', 'ROOT'), ('was', 'fantastic', 'acomp'), ('was', 'but', 'cc'), ('ending', 'the', 'det'), ('was', 'ending', 'nsubj'), ('was', 'was', 'conj'), ('was', 'disappointing', 'acomp'), ('was', '.', 'punct')]\n"
     ]
    }
   ],
   "source": [
    "import spacy \n",
    "nlp = spacy.load(\"en_core_web_sm\")\n",
    "sentence = \"The movie was fantastic but the ending was disappointing.\"\n",
    "doc = nlp(sentence)\n",
    "\n",
    "# Extract dependency edges\n",
    "edges = []\n",
    "for token in doc:\n",
    "    edges.append((token.head.text, token.text, token.dep_))  # (head, dependent, relationship)\n",
    "\n",
    "print(edges)"
   ]
  },
  {
   "cell_type": "code",
   "execution_count": 6,
   "metadata": {},
   "outputs": [],
   "source": [
    "def predict_sentiment(text, model, tokenizer):\n",
    "    model.eval()  # Ensure model is in eval mode\n",
    "\n",
    "    # Tokenize input text\n",
    "    encoding = tokenizer(text, return_tensors=\"pt\", padding=True, truncation=True, max_length=512)\n",
    "    input_ids = encoding[\"input_ids\"].to(device)\n",
    "    attention_mask = encoding[\"attention_mask\"].to(device)\n",
    "\n",
    "    # Get logits from the model\n",
    "    with torch.no_grad():\n",
    "        logits = model(input_ids, attention_mask) # we can print logits etc here\n",
    "\n",
    "    # Convert logits to probabilities\n",
    "    probs = torch.softmax(logits, dim=-1)\n",
    "    pred_label = torch.argmax(probs, dim=-1).item()\n",
    "\n",
    "    # Map label to sentiment\n",
    "    sentiment_map = {0: \"Negative\", 1: \"Positive\"}\n",
    "    return sentiment_map[pred_label], probs.cpu().numpy()"
   ]
  },
  {
   "cell_type": "code",
   "execution_count": 15,
   "metadata": {},
   "outputs": [
    {
     "name": "stdout",
     "output_type": "stream",
     "text": [
      "Edge: movie -> The (det), Sentiment Change: 0.1623\n",
      "Edge: was -> movie (nsubj), Sentiment Change: 0.1920\n",
      "Edge: was -> was (ROOT), Sentiment Change: 0.3502\n",
      "Edge: was -> fantastic (acomp), Sentiment Change: 0.4079\n",
      "Edge: was -> but (cc), Sentiment Change: 0.1578\n",
      "Edge: ending -> the (det), Sentiment Change: 0.2406\n",
      "Edge: was -> ending (nsubj), Sentiment Change: 0.1501\n"
     ]
    },
    {
     "name": "stderr",
     "output_type": "stream",
     "text": [
      "/tmp/ipykernel_1551024/855940221.py:12: UserWarning: To copy construct from a tensor, it is recommended to use sourceTensor.clone().detach() or sourceTensor.clone().detach().requires_grad_(True), rather than torch.tensor(sourceTensor).\n",
      "  org_prob = torch.tensor(org_prob)\n"
     ]
    },
    {
     "name": "stdout",
     "output_type": "stream",
     "text": [
      "Edge: was -> was (conj), Sentiment Change: 0.3502\n",
      "Edge: was -> disappointing (acomp), Sentiment Change: 0.1243\n",
      "Edge: was -> . (punct), Sentiment Change: 0.0697\n"
     ]
    }
   ],
   "source": [
    "original_text = \"The movie was fantastic but the ending was disappointing.\"\n",
    "original_sentiment , org_prob = predict_sentiment(original_text,finetuned_model, tokenizer)\n",
    "org_prob\n",
    "for edge in edges:\n",
    "    head, dependent, relation = edge\n",
    "    # Mask the dependent word\n",
    "    modified_text = original_text.replace(dependent, \"[MASK]\")\n",
    "    modified_sentiment , mod_prob  = predict_sentiment(modified_text, finetuned_model, tokenizer)\n",
    "    \n",
    "    # conver to tensor \n",
    "    mod_prob = torch.tensor(mod_prob)\n",
    "    org_prob = torch.tensor(org_prob)\n",
    "    # Compute the difference in sentiment\n",
    "    sentiment_diff = torch.abs(mod_prob - org_prob).sum().item()\n",
    "    print(f\"Edge: {head} -> {dependent} ({relation}), Sentiment Change: {sentiment_diff:.4f}\")"
   ]
  },
  {
   "cell_type": "markdown",
   "metadata": {},
   "source": [
    "Layer Activations Monitoring and Masking the Last Token"
   ]
  },
  {
   "cell_type": "code",
   "execution_count": 5,
   "metadata": {},
   "outputs": [
    {
     "name": "stdout",
     "output_type": "stream",
     "text": [
      "Hello how are you ...\n",
      "\t 0.009\n",
      "the\t 0.005\n",
      "of\t 0.005\n",
      ".\t 0.005\n",
      "a\t 0.005\n"
     ]
    }
   ],
   "source": [
    "s = \"Hello how are you\" #  Change this to a sentence (fragment) of your choice, to see what the next tokens are!\n",
    "logits = base_model(s).squeeze(0).cpu()\n",
    "probs = torch.softmax(logits, dim=-1)\n",
    "\n",
    "# let's see what the top 5 predictions are\n",
    "probs, next_tokens = torch.topk(probs[-1], 5)\n",
    "print(s, \"...\")\n",
    "for token_id, prob in zip(next_tokens, probs):\n",
    "    token = base_model.tokenizer.decode(token_id.item())\n",
    "    print(f\"{token.strip()}\\t {prob.item():.3f}\")"
   ]
  },
  {
   "cell_type": "code",
   "execution_count": 13,
   "metadata": {},
   "outputs": [
    {
     "data": {
      "application/vnd.jupyter.widget-view+json": {
       "model_id": "160a6e2217024c8abe2d1c75d17c2eda",
       "version_major": 2,
       "version_minor": 0
      },
      "text/plain": [
       "Map:   0%|          | 0/2000 [00:00<?, ? examples/s]"
      ]
     },
     "metadata": {},
     "output_type": "display_data"
    }
   ],
   "source": [
    "# make a corrupt dataset random word substitution\n",
    "\n",
    "# Simple sentiment replacement dictionary\n",
    "sentiment_swaps = {\n",
    "    # Positive → Negative\n",
    "    \"great\": \"bad\", \"amazing\": \"boring\", \"fantastic\": \"terrible\", \"excellent\": \"awful\", \"superb\": \"horrible\",\n",
    "    \"love\": \"dislike\", \"enjoyed\": \"hated\", \"wonderful\": \"dreadful\", \"brilliant\": \"dull\", \"beautiful\": \"ugly\",\n",
    "    \"outstanding\": \"mediocre\", \"charming\": \"unpleasant\", \"impressive\": \"unremarkable\", \"delightful\": \"disappointing\",\n",
    "    \"spectacular\": \"ordinary\", \"thrilling\": \"boring\", \"engaging\": \"tedious\", \"fascinating\": \"uninspiring\",\n",
    "    \"masterpiece\": \"mess\", \"heartwarming\": \"cold\", \"touching\": \"emotionless\", \"captivating\": \"lifeless\",\n",
    "    \"compelling\": \"flat\", \"entertaining\": \"dull\", \"refreshing\": \"stale\", \"mesmerizing\": \"forgettable\",\n",
    "    \n",
    "    # Negative → Positive\n",
    "    \"bad\": \"good\", \"boring\": \"exciting\", \"awful\": \"nice\", \"terrible\": \"fantastic\", \"horrible\": \"amazing\",\n",
    "    \"hate\": \"love\", \"dull\": \"brilliant\", \"ugly\": \"beautiful\", \"mediocre\": \"outstanding\", \"unpleasant\": \"charming\",\n",
    "    \"unremarkable\": \"impressive\", \"disappointing\": \"delightful\", \"ordinary\": \"spectacular\", \"tedious\": \"engaging\",\n",
    "    \"uninspiring\": \"fascinating\", \"mess\": \"masterpiece\", \"cold\": \"heartwarming\", \"emotionless\": \"touching\",\n",
    "    \"lifeless\": \"captivating\", \"flat\": \"compelling\", \"stale\": \"refreshing\", \"forgettable\": \"mesmerizing\"\n",
    "}\n",
    "\n",
    "def corrupt_text(text):\n",
    "    words = text.split()\n",
    "    corrupted_words = [sentiment_swaps.get(word.lower(), word) for word in words]\n",
    "    return \" \".join(corrupted_words)\n",
    "\n",
    "# apply to the dataset \n",
    "corrupted_dataset = dataset[\"test\"].map(lambda x: {\"review\": corrupt_text(x[\"review\"])})"
   ]
  },

  {
   "cell_type": "code",
   "execution_count": 14,
   "metadata": {},
   "outputs": [],
   "source": [
    "def prob_diff(logits: torch.Tensor, labels: torch.Tensor):\n",
    "    probs = torch.softmax(logits, dim=-1).to(device)  # Convert logits to probabilities\n",
    "    labels = labels.to(device)\n",
    "    correct_probs = probs.gather(1, labels.unsqueeze(1)).squeeze(1).to(device)  # True class probs\n",
    "    incorrect_probs = 1 - correct_probs  # Since binary: P(incorrect) = 1 - P(correct)\n",
    "\n",
    "    return correct_probs - incorrect_probs "
   ]
  },
  {
   "cell_type": "code",
   "execution_count": 15,
   "metadata": {},
   "outputs": [],
   "source": [
    "# batch the dataset\n",
    "corrupted_dataset = IMDBDataset(corrupted_dataset, tokenizer)\n",
    "corrupted_loader = DataLoader(corrupted_dataset, batch_size=4, shuffle=True)\n",
    "clean_dataset = dataset[\"test\"]\n",
    "clean_dataset = IMDBDataset(clean_dataset, tokenizer)\n",
    "clean_loader = DataLoader(clean_dataset, batch_size=4, shuffle=True)\n",
    "\n"
   ]
  },
  {
   "cell_type": "code",
   "execution_count": 16,
   "metadata": {},
   "outputs": [
    {
     "name": "stdout",
     "output_type": "stream",
     "text": [
      "Average Probability Difference (Clean): 0.8296\n",
      "Average Probability Difference (Corrupted): 0.6188\n"
     ]
    },
    {
     "data": {
      "image/png": "[encoded data removed]",
      "text/plain": [
       "<Figure size 1200x600 with 1 Axes>"
      ]
     },
     "metadata": {},
     "output_type": "display_data"
    }
   ],
   "source": [
    "\n",
    "# loop through the dataset and get the probability difference\n",
    "clean_diffs = []\n",
    "corrupted_diffs = []\n",
    "\n",
    "for (clean_batch, corrupted_batch) in zip(clean_loader, corrupted_loader):\n",
    "    clean_input_ids, clean_attention_mask, clean_labels, _ = clean_batch\n",
    "    corrupted_input_ids, corrupted_attention_mask, corrupted_labels, _ = corrupted_batch\n",
    "\n",
    "    # Get logits for clean and corrupted batches\n",
    "    clean_logits = finetuned_model(clean_input_ids.to(device), clean_attention_mask.to(device))\n",
    "    corrupted_logits = finetuned_model(corrupted_input_ids.to(device), corrupted_attention_mask.to(device))\n",
    "\n",
    "    # Compute probability differences\n",
    "\n",
    "    clean_diffs.extend(prob_diff(clean_logits, clean_labels))\n",
    "    corrupted_diffs.extend(prob_diff(corrupted_logits, corrupted_labels))\n",
    "\n",
    "    # # print clean_diffs\n",
    "    # print(\"Clean Diffs: \", clean_diffs)\n",
    "    # print(\"Corrupted Diffs: \", corrupted_diffs)\n",
    "\n",
    "# print avg diff\n",
    "clean_diffs = torch.stack(clean_diffs).cpu().numpy()\n",
    "corrupted_diffs = torch.stack(corrupted_diffs).cpu().numpy()\n",
    "print(f\"Average Probability Difference (Clean): {clean_diffs.mean():.4f}\")\n",
    "print(f\"Average Probability Difference (Corrupted): {corrupted_diffs.mean():.4f}\")\n",
    "# Plot the probability differences\n",
    "plt.figure(figsize=(12, 6))\n",
    "plt.hist(clean_diffs, bins=50, alpha=0.7, label=\"Clean Dataset\")\n",
    "plt.hist(corrupted_diffs, bins=50, alpha=0.7, label=\"Corrupted Dataset\")\n",
    "plt.xlabel(\"Probability Difference\")\n",
    "plt.ylabel(\"Frequency\")\n",
    "plt.legend()\n",
    "plt.title(\"Probability Difference Distribution\")\n",
    "plt.show()"
   ]
  }
 ],
 "metadata": {
  "kernelspec": {
   "display_name": "dl",
   "language": "python",
   "name": "python3"
  },
  "language_info": {
   "codemirror_mode": {
    "name": "ipython",
    "version": 3
   },
   "file_extension": ".py",
   "mimetype": "text/x-python",
   "name": "python",
   "nbconvert_exporter": "python",
   "pygments_lexer": "ipython3",
   "version": "3.9.17"
  }
 },
 "nbformat": 4,
 "nbformat_minor": 2
}
